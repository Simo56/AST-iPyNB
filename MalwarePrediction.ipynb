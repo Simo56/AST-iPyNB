{
 "cells": [
  {
   "cell_type": "code",
   "execution_count": null,
   "id": "dcdf5f4f-c554-4ee2-9049-6a9a86c0354a",
   "metadata": {},
   "outputs": [],
   "source": [
    "######### Preprocessing #########"
   ]
  },
  {
   "cell_type": "code",
   "execution_count": 1,
   "id": "e9f81fe7-ea31-479c-9602-892309bea7ec",
   "metadata": {},
   "outputs": [
    {
     "name": "stdout",
     "output_type": "stream",
     "text": [
      "                                              Name  e_magic  e_cblp  e_cp  \\\n",
      "0      VirusShare_a878ba26000edaac5c98eff4432723b3    23117     144     3   \n",
      "1      VirusShare_ef9130570fddc174b312b2047f5f4cf0    23117     144     3   \n",
      "2      VirusShare_ef84cdeba22be72a69b198213dada81a    23117     144     3   \n",
      "3      VirusShare_6bf3608e60ebc16cbcff6ed5467d469e    23117     144     3   \n",
      "4      VirusShare_2cc94d952b2efb13c7d6bbe0dd59d3fb    23117     144     3   \n",
      "...                                            ...      ...     ...   ...   \n",
      "19606                                     clip.exe    23117     144     3   \n",
      "19607                 VNC-Server-6.2.0-Windows.exe    23117     144     3   \n",
      "19608      Microsoft.GroupPolicy.Management.ni.dll    23117       0     0   \n",
      "19609                            cryptuiwizard.dll    23117     144     3   \n",
      "19610                                  winhttp.dll    23117     144     3   \n",
      "\n",
      "       e_crlc  e_cparhdr  e_minalloc  e_maxalloc  e_ss  e_sp  ...  \\\n",
      "0           0          4           0       65535     0   184  ...   \n",
      "1           0          4           0       65535     0   184  ...   \n",
      "2           0          4           0       65535     0   184  ...   \n",
      "3           0          4           0       65535     0   184  ...   \n",
      "4           0          4           0       65535     0   184  ...   \n",
      "...       ...        ...         ...         ...   ...   ...  ...   \n",
      "19606       0          4           0       65535     0   184  ...   \n",
      "19607       0          4           0       65535     0   184  ...   \n",
      "19608       0          0           0           0     0     0  ...   \n",
      "19609       0          4           0       65535     0   184  ...   \n",
      "19610       0          4           0       65535     0   184  ...   \n",
      "\n",
      "       SectionMaxChar  SectionMainChar  DirectoryEntryImport  \\\n",
      "0          3758096608                0                     7   \n",
      "1          3791650880                0                    16   \n",
      "2          3221225536                0                     6   \n",
      "3          3224371328                0                     8   \n",
      "4          3227516992                0                     2   \n",
      "...               ...              ...                   ...   \n",
      "19606      3221225536                0                     8   \n",
      "19607      3221225536                0                    10   \n",
      "19608      3758096448                0                     0   \n",
      "19609      3221225536                0                    12   \n",
      "19610      3221225536                0                    35   \n",
      "\n",
      "       DirectoryEntryImportSize  DirectoryEntryExport  \\\n",
      "0                           152                     0   \n",
      "1                           311                     0   \n",
      "2                           176                     0   \n",
      "3                           155                     0   \n",
      "4                            43                     0   \n",
      "...                         ...                   ...   \n",
      "19606                        85                     0   \n",
      "19607                       391                     0   \n",
      "19608                         0                     0   \n",
      "19609                       162                     8   \n",
      "19610                       226                    58   \n",
      "\n",
      "       ImageDirectoryEntryExport  ImageDirectoryEntryImport  \\\n",
      "0                              0                      54440   \n",
      "1                              0                     262276   \n",
      "2                              0                      36864   \n",
      "3                              0                     356352   \n",
      "4                              0                      61440   \n",
      "...                          ...                        ...   \n",
      "19606                          0                      24948   \n",
      "19607                          0                    1413420   \n",
      "19608                          0                          0   \n",
      "19609                      89008                      94904   \n",
      "19610                       8348                     545812   \n",
      "\n",
      "       ImageDirectoryEntryResource  ImageDirectoryEntryException  \\\n",
      "0                            77824                         73728   \n",
      "1                           294912                             0   \n",
      "2                            40960                             0   \n",
      "3                          1003520                             0   \n",
      "4                            73728                             0   \n",
      "...                            ...                           ...   \n",
      "19606                        28672                             0   \n",
      "19607                      1462272                             0   \n",
      "19608                        61440                             0   \n",
      "19609                       102400                             0   \n",
      "19610                       557056                             0   \n",
      "\n",
      "       ImageDirectoryEntrySecurity  \n",
      "0                                0  \n",
      "1                           346112  \n",
      "2                                0  \n",
      "3                         14109472  \n",
      "4                            90624  \n",
      "...                            ...  \n",
      "19606                            0  \n",
      "19607                     18855424  \n",
      "19608                            0  \n",
      "19609                            0  \n",
      "19610                            0  \n",
      "\n",
      "[19611 rows x 79 columns]\n"
     ]
    }
   ],
   "source": [
    "import numpy as np\n",
    "import pandas as pd\n",
    "\n",
    "import warnings\n",
    "warnings.simplefilter(\"ignore\")\n",
    "\n",
    "df = pd.read_csv('./dataset_malwares.csv')\n",
    "print(df)"
   ]
  },
  {
   "cell_type": "code",
   "execution_count": 2,
   "id": "b8109d1e-dc5c-42aa-88ad-48bf23782392",
   "metadata": {},
   "outputs": [
    {
     "name": "stdout",
     "output_type": "stream",
     "text": [
      "<class 'pandas.core.frame.DataFrame'>\n",
      "RangeIndex: 19611 entries, 0 to 19610\n",
      "Data columns (total 79 columns):\n",
      " #   Column                        Non-Null Count  Dtype  \n",
      "---  ------                        --------------  -----  \n",
      " 0   Name                          19611 non-null  object \n",
      " 1   e_magic                       19611 non-null  int64  \n",
      " 2   e_cblp                        19611 non-null  int64  \n",
      " 3   e_cp                          19611 non-null  int64  \n",
      " 4   e_crlc                        19611 non-null  int64  \n",
      " 5   e_cparhdr                     19611 non-null  int64  \n",
      " 6   e_minalloc                    19611 non-null  int64  \n",
      " 7   e_maxalloc                    19611 non-null  int64  \n",
      " 8   e_ss                          19611 non-null  int64  \n",
      " 9   e_sp                          19611 non-null  int64  \n",
      " 10  e_csum                        19611 non-null  int64  \n",
      " 11  e_ip                          19611 non-null  int64  \n",
      " 12  e_cs                          19611 non-null  int64  \n",
      " 13  e_lfarlc                      19611 non-null  int64  \n",
      " 14  e_ovno                        19611 non-null  int64  \n",
      " 15  e_oemid                       19611 non-null  int64  \n",
      " 16  e_oeminfo                     19611 non-null  int64  \n",
      " 17  e_lfanew                      19611 non-null  int64  \n",
      " 18  Machine                       19611 non-null  int64  \n",
      " 19  NumberOfSections              19611 non-null  int64  \n",
      " 20  TimeDateStamp                 19611 non-null  int64  \n",
      " 21  PointerToSymbolTable          19611 non-null  int64  \n",
      " 22  NumberOfSymbols               19611 non-null  int64  \n",
      " 23  SizeOfOptionalHeader          19611 non-null  int64  \n",
      " 24  Characteristics               19611 non-null  int64  \n",
      " 25  Magic                         19611 non-null  int64  \n",
      " 26  MajorLinkerVersion            19611 non-null  int64  \n",
      " 27  MinorLinkerVersion            19611 non-null  int64  \n",
      " 28  SizeOfCode                    19611 non-null  int64  \n",
      " 29  SizeOfInitializedData         19611 non-null  int64  \n",
      " 30  SizeOfUninitializedData       19611 non-null  int64  \n",
      " 31  AddressOfEntryPoint           19611 non-null  int64  \n",
      " 32  BaseOfCode                    19611 non-null  int64  \n",
      " 33  ImageBase                     19611 non-null  int64  \n",
      " 34  SectionAlignment              19611 non-null  int64  \n",
      " 35  FileAlignment                 19611 non-null  int64  \n",
      " 36  MajorOperatingSystemVersion   19611 non-null  int64  \n",
      " 37  MinorOperatingSystemVersion   19611 non-null  int64  \n",
      " 38  MajorImageVersion             19611 non-null  int64  \n",
      " 39  MinorImageVersion             19611 non-null  int64  \n",
      " 40  MajorSubsystemVersion         19611 non-null  int64  \n",
      " 41  MinorSubsystemVersion         19611 non-null  int64  \n",
      " 42  SizeOfHeaders                 19611 non-null  int64  \n",
      " 43  CheckSum                      19611 non-null  int64  \n",
      " 44  SizeOfImage                   19611 non-null  int64  \n",
      " 45  Subsystem                     19611 non-null  int64  \n",
      " 46  DllCharacteristics            19611 non-null  int64  \n",
      " 47  SizeOfStackReserve            19611 non-null  int64  \n",
      " 48  SizeOfStackCommit             19611 non-null  int64  \n",
      " 49  SizeOfHeapReserve             19611 non-null  int64  \n",
      " 50  SizeOfHeapCommit              19611 non-null  int64  \n",
      " 51  LoaderFlags                   19611 non-null  int64  \n",
      " 52  NumberOfRvaAndSizes           19611 non-null  int64  \n",
      " 53  Malware                       19611 non-null  int64  \n",
      " 54  SuspiciousImportFunctions     19611 non-null  int64  \n",
      " 55  SuspiciousNameSection         19611 non-null  int64  \n",
      " 56  SectionsLength                19611 non-null  int64  \n",
      " 57  SectionMinEntropy             19611 non-null  float64\n",
      " 58  SectionMaxEntropy             19611 non-null  int64  \n",
      " 59  SectionMinRawsize             19611 non-null  int64  \n",
      " 60  SectionMaxRawsize             19611 non-null  int64  \n",
      " 61  SectionMinVirtualsize         19611 non-null  int64  \n",
      " 62  SectionMaxVirtualsize         19611 non-null  int64  \n",
      " 63  SectionMaxPhysical            19611 non-null  int64  \n",
      " 64  SectionMinPhysical            19611 non-null  int64  \n",
      " 65  SectionMaxVirtual             19611 non-null  int64  \n",
      " 66  SectionMinVirtual             19611 non-null  int64  \n",
      " 67  SectionMaxPointerData         19611 non-null  int64  \n",
      " 68  SectionMinPointerData         19611 non-null  int64  \n",
      " 69  SectionMaxChar                19611 non-null  int64  \n",
      " 70  SectionMainChar               19611 non-null  int64  \n",
      " 71  DirectoryEntryImport          19611 non-null  int64  \n",
      " 72  DirectoryEntryImportSize      19611 non-null  int64  \n",
      " 73  DirectoryEntryExport          19611 non-null  int64  \n",
      " 74  ImageDirectoryEntryExport     19611 non-null  int64  \n",
      " 75  ImageDirectoryEntryImport     19611 non-null  int64  \n",
      " 76  ImageDirectoryEntryResource   19611 non-null  int64  \n",
      " 77  ImageDirectoryEntryException  19611 non-null  int64  \n",
      " 78  ImageDirectoryEntrySecurity   19611 non-null  int64  \n",
      "dtypes: float64(1), int64(77), object(1)\n",
      "memory usage: 11.8+ MB\n"
     ]
    }
   ],
   "source": [
    "#Obtaining dataFrame information\n",
    "df.info()"
   ]
  },
  {
   "cell_type": "code",
   "execution_count": 3,
   "id": "48a26201-e745-4b9f-89bc-30c27c93a96f",
   "metadata": {},
   "outputs": [],
   "source": [
    "#Separating input and output labels\n",
    "X = df.drop(['Name','Malware'], axis=1)\n",
    "y = df['Malware']"
   ]
  },
  {
   "cell_type": "code",
   "execution_count": 4,
   "id": "c5679daf-e8cd-4d2b-bfe7-796b6ecdd4bc",
   "metadata": {},
   "outputs": [
    {
     "name": "stdout",
     "output_type": "stream",
     "text": [
      "0        1\n",
      "1        1\n",
      "2        1\n",
      "3        1\n",
      "4        1\n",
      "        ..\n",
      "19606    0\n",
      "19607    0\n",
      "19608    0\n",
      "19609    0\n",
      "19610    0\n",
      "Name: Malware, Length: 19611, dtype: int64\n"
     ]
    }
   ],
   "source": [
    "print(y)"
   ]
  },
  {
   "cell_type": "code",
   "execution_count": 5,
   "id": "7f2af366-4d6e-499c-a088-b2aa69ca38cf",
   "metadata": {},
   "outputs": [],
   "source": [
    "from sklearn.model_selection import train_test_split"
   ]
  },
  {
   "cell_type": "code",
   "execution_count": 6,
   "id": "e5513b7f-be13-4525-8202-40aa566e38bb",
   "metadata": {},
   "outputs": [],
   "source": [
    "#example training, validation and test data split\n",
    "train, validate, test = np.split(df.sample(frac=1), [int(.6*len(df)), int(.8*len(df))])"
   ]
  },
  {
   "cell_type": "code",
   "execution_count": 7,
   "id": "3063d3f3-1352-4841-ace1-21ad58c898bf",
   "metadata": {},
   "outputs": [],
   "source": [
    "#obtaining the utitlized training, validation, and test data split\n",
    "X_train, X_test, y_train, y_test = train_test_split(X, y, test_size=0.2, random_state=1)\n",
    "\n",
    "X_train, X_val, y_train, y_val = train_test_split(X_train, y_train, test_size=0.25, random_state=1) # 0.25 x 0.8 = 0.2"
   ]
  },
  {
   "cell_type": "code",
   "execution_count": 8,
   "id": "f9cc9b6c-a451-4be1-99db-a1bc4b8b6ddd",
   "metadata": {},
   "outputs": [
    {
     "data": {
      "text/html": [
       "<div>\n",
       "<style scoped>\n",
       "    .dataframe tbody tr th:only-of-type {\n",
       "        vertical-align: middle;\n",
       "    }\n",
       "\n",
       "    .dataframe tbody tr th {\n",
       "        vertical-align: top;\n",
       "    }\n",
       "\n",
       "    .dataframe thead th {\n",
       "        text-align: right;\n",
       "    }\n",
       "</style>\n",
       "<table border=\"1\" class=\"dataframe\">\n",
       "  <thead>\n",
       "    <tr style=\"text-align: right;\">\n",
       "      <th></th>\n",
       "      <th>e_magic</th>\n",
       "      <th>e_cblp</th>\n",
       "      <th>e_cp</th>\n",
       "      <th>e_crlc</th>\n",
       "      <th>e_cparhdr</th>\n",
       "      <th>e_minalloc</th>\n",
       "      <th>e_maxalloc</th>\n",
       "      <th>e_ss</th>\n",
       "      <th>e_sp</th>\n",
       "      <th>e_csum</th>\n",
       "      <th>...</th>\n",
       "      <th>SectionMaxChar</th>\n",
       "      <th>SectionMainChar</th>\n",
       "      <th>DirectoryEntryImport</th>\n",
       "      <th>DirectoryEntryImportSize</th>\n",
       "      <th>DirectoryEntryExport</th>\n",
       "      <th>ImageDirectoryEntryExport</th>\n",
       "      <th>ImageDirectoryEntryImport</th>\n",
       "      <th>ImageDirectoryEntryResource</th>\n",
       "      <th>ImageDirectoryEntryException</th>\n",
       "      <th>ImageDirectoryEntrySecurity</th>\n",
       "    </tr>\n",
       "  </thead>\n",
       "  <tbody>\n",
       "    <tr>\n",
       "      <th>12108</th>\n",
       "      <td>23117</td>\n",
       "      <td>144</td>\n",
       "      <td>3</td>\n",
       "      <td>0</td>\n",
       "      <td>4</td>\n",
       "      <td>0</td>\n",
       "      <td>65535</td>\n",
       "      <td>0</td>\n",
       "      <td>184</td>\n",
       "      <td>0</td>\n",
       "      <td>...</td>\n",
       "      <td>3221225536</td>\n",
       "      <td>0</td>\n",
       "      <td>1</td>\n",
       "      <td>1</td>\n",
       "      <td>0</td>\n",
       "      <td>0</td>\n",
       "      <td>606324</td>\n",
       "      <td>622592</td>\n",
       "      <td>0</td>\n",
       "      <td>0</td>\n",
       "    </tr>\n",
       "    <tr>\n",
       "      <th>17792</th>\n",
       "      <td>23117</td>\n",
       "      <td>144</td>\n",
       "      <td>3</td>\n",
       "      <td>0</td>\n",
       "      <td>4</td>\n",
       "      <td>0</td>\n",
       "      <td>65535</td>\n",
       "      <td>0</td>\n",
       "      <td>184</td>\n",
       "      <td>0</td>\n",
       "      <td>...</td>\n",
       "      <td>3221225536</td>\n",
       "      <td>0</td>\n",
       "      <td>23</td>\n",
       "      <td>117</td>\n",
       "      <td>0</td>\n",
       "      <td>0</td>\n",
       "      <td>41520</td>\n",
       "      <td>49152</td>\n",
       "      <td>0</td>\n",
       "      <td>0</td>\n",
       "    </tr>\n",
       "    <tr>\n",
       "      <th>5510</th>\n",
       "      <td>23117</td>\n",
       "      <td>144</td>\n",
       "      <td>3</td>\n",
       "      <td>0</td>\n",
       "      <td>4</td>\n",
       "      <td>0</td>\n",
       "      <td>65535</td>\n",
       "      <td>0</td>\n",
       "      <td>184</td>\n",
       "      <td>0</td>\n",
       "      <td>...</td>\n",
       "      <td>3221225536</td>\n",
       "      <td>0</td>\n",
       "      <td>9</td>\n",
       "      <td>195</td>\n",
       "      <td>0</td>\n",
       "      <td>139680</td>\n",
       "      <td>134260</td>\n",
       "      <td>352256</td>\n",
       "      <td>344064</td>\n",
       "      <td>0</td>\n",
       "    </tr>\n",
       "    <tr>\n",
       "      <th>12013</th>\n",
       "      <td>23117</td>\n",
       "      <td>144</td>\n",
       "      <td>3</td>\n",
       "      <td>0</td>\n",
       "      <td>4</td>\n",
       "      <td>0</td>\n",
       "      <td>65535</td>\n",
       "      <td>0</td>\n",
       "      <td>184</td>\n",
       "      <td>0</td>\n",
       "      <td>...</td>\n",
       "      <td>3221225536</td>\n",
       "      <td>0</td>\n",
       "      <td>3</td>\n",
       "      <td>101</td>\n",
       "      <td>0</td>\n",
       "      <td>0</td>\n",
       "      <td>825236</td>\n",
       "      <td>831488</td>\n",
       "      <td>0</td>\n",
       "      <td>0</td>\n",
       "    </tr>\n",
       "    <tr>\n",
       "      <th>11999</th>\n",
       "      <td>23117</td>\n",
       "      <td>144</td>\n",
       "      <td>3</td>\n",
       "      <td>0</td>\n",
       "      <td>4</td>\n",
       "      <td>0</td>\n",
       "      <td>65535</td>\n",
       "      <td>0</td>\n",
       "      <td>184</td>\n",
       "      <td>0</td>\n",
       "      <td>...</td>\n",
       "      <td>3758096416</td>\n",
       "      <td>0</td>\n",
       "      <td>12</td>\n",
       "      <td>12</td>\n",
       "      <td>0</td>\n",
       "      <td>0</td>\n",
       "      <td>1138688</td>\n",
       "      <td>1142784</td>\n",
       "      <td>0</td>\n",
       "      <td>0</td>\n",
       "    </tr>\n",
       "  </tbody>\n",
       "</table>\n",
       "<p>5 rows × 77 columns</p>\n",
       "</div>"
      ],
      "text/plain": [
       "       e_magic  e_cblp  e_cp  e_crlc  e_cparhdr  e_minalloc  e_maxalloc  e_ss  \\\n",
       "12108    23117     144     3       0          4           0       65535     0   \n",
       "17792    23117     144     3       0          4           0       65535     0   \n",
       "5510     23117     144     3       0          4           0       65535     0   \n",
       "12013    23117     144     3       0          4           0       65535     0   \n",
       "11999    23117     144     3       0          4           0       65535     0   \n",
       "\n",
       "       e_sp  e_csum  ...  SectionMaxChar  SectionMainChar  \\\n",
       "12108   184       0  ...      3221225536                0   \n",
       "17792   184       0  ...      3221225536                0   \n",
       "5510    184       0  ...      3221225536                0   \n",
       "12013   184       0  ...      3221225536                0   \n",
       "11999   184       0  ...      3758096416                0   \n",
       "\n",
       "       DirectoryEntryImport  DirectoryEntryImportSize  DirectoryEntryExport  \\\n",
       "12108                     1                         1                     0   \n",
       "17792                    23                       117                     0   \n",
       "5510                      9                       195                     0   \n",
       "12013                     3                       101                     0   \n",
       "11999                    12                        12                     0   \n",
       "\n",
       "       ImageDirectoryEntryExport  ImageDirectoryEntryImport  \\\n",
       "12108                          0                     606324   \n",
       "17792                          0                      41520   \n",
       "5510                      139680                     134260   \n",
       "12013                          0                     825236   \n",
       "11999                          0                    1138688   \n",
       "\n",
       "       ImageDirectoryEntryResource  ImageDirectoryEntryException  \\\n",
       "12108                       622592                             0   \n",
       "17792                        49152                             0   \n",
       "5510                        352256                        344064   \n",
       "12013                       831488                             0   \n",
       "11999                      1142784                             0   \n",
       "\n",
       "       ImageDirectoryEntrySecurity  \n",
       "12108                            0  \n",
       "17792                            0  \n",
       "5510                             0  \n",
       "12013                            0  \n",
       "11999                            0  \n",
       "\n",
       "[5 rows x 77 columns]"
      ]
     },
     "execution_count": 8,
     "metadata": {},
     "output_type": "execute_result"
    }
   ],
   "source": [
    "#viewing first 5 values of the training split\n",
    "X_train.head()"
   ]
  },
  {
   "cell_type": "code",
   "execution_count": 9,
   "id": "3b4071ba-8ebb-4c51-ba20-b60e243ef2ec",
   "metadata": {},
   "outputs": [],
   "source": [
    "#normalization of the training, test and validation split\n",
    "from sklearn.preprocessing import MinMaxScaler\n",
    "scaler = MinMaxScaler()\n",
    "\n",
    "X_train_scaled = scaler.fit_transform(X_train)\n",
    "X_val_scaled = scaler.transform(X_val)\n",
    "X_test_scaled = scaler.transform(X_test)"
   ]
  },
  {
   "cell_type": "code",
   "execution_count": 70,
   "id": "4a0795d2-0eb2-4639-a04e-0fba33137171",
   "metadata": {},
   "outputs": [],
   "source": [
    "######### Model building and hyperparameter optimization #########"
   ]
  },
  {
   "cell_type": "code",
   "execution_count": 71,
   "id": "92cbaa7a-e962-4ae5-9ef7-e468a1d888b3",
   "metadata": {},
   "outputs": [],
   "source": [
    "from sklearn.neural_network import MLPClassifier\n",
    "from sklearn.model_selection import GridSearchCV\n",
    "from sklearn.metrics import accuracy_score\n",
    "from sklearn.metrics import classification_report\n",
    "\n",
    "#Define a grid of hyperparameter combinations to search over\n",
    "param_grid = {\n",
    "    'hidden_layer_sizes': [(4,), (8,), (16,), (4, 4), (8, 8), (16, 16), (4, 4, 4), (8, 8, 8), (16, 16, 16), (4, 4, 4, 4), (8, 8, 8, 8), (16, 16, 16, 16)],\n",
    "    'activation': ['relu', 'tanh'],\n",
    "    'solver': ['adam', 'sgd']\n",
    "}"
   ]
  },
  {
   "cell_type": "code",
   "execution_count": 72,
   "id": "cac78c02-c9f0-4460-9f7f-8eda1f2bc8b6",
   "metadata": {},
   "outputs": [],
   "source": [
    "# Define the neural network model\n",
    "mlp_model = MLPClassifier(max_iter=1000, random_state=1)"
   ]
  },
  {
   "cell_type": "code",
   "execution_count": 73,
   "id": "f41e21f0-04f2-47ef-8aef-6e4435763ad7",
   "metadata": {},
   "outputs": [
    {
     "name": "stdout",
     "output_type": "stream",
     "text": [
      "Fitting 1 folds for each of 48 candidates, totalling 48 fits\n",
      "[CV 1/1] END activation=relu, hidden_layer_sizes=(4,), solver=adam;, score=0.976 total time=   4.7s\n",
      "[CV 1/1] END activation=relu, hidden_layer_sizes=(4,), solver=sgd;, score=0.973 total time=   6.6s\n",
      "[CV 1/1] END activation=relu, hidden_layer_sizes=(8,), solver=adam;, score=0.977 total time=   5.7s\n",
      "[CV 1/1] END activation=relu, hidden_layer_sizes=(8,), solver=sgd;, score=0.974 total time=   7.0s\n",
      "[CV 1/1] END activation=relu, hidden_layer_sizes=(16,), solver=adam;, score=0.983 total time=   9.7s\n",
      "[CV 1/1] END activation=relu, hidden_layer_sizes=(16,), solver=sgd;, score=0.974 total time=   8.4s\n",
      "[CV 1/1] END activation=relu, hidden_layer_sizes=(4, 4), solver=adam;, score=0.975 total time=   4.2s\n",
      "[CV 1/1] END activation=relu, hidden_layer_sizes=(4, 4), solver=sgd;, score=0.974 total time=   8.2s\n",
      "[CV 1/1] END activation=relu, hidden_layer_sizes=(8, 8), solver=adam;, score=0.981 total time=   8.1s\n",
      "[CV 1/1] END activation=relu, hidden_layer_sizes=(8, 8), solver=sgd;, score=0.977 total time=   9.0s\n",
      "[CV 1/1] END activation=relu, hidden_layer_sizes=(16, 16), solver=adam;, score=0.982 total time=   5.7s\n",
      "[CV 1/1] END activation=relu, hidden_layer_sizes=(16, 16), solver=sgd;, score=0.977 total time=   7.5s\n",
      "[CV 1/1] END activation=relu, hidden_layer_sizes=(4, 4, 4), solver=adam;, score=0.977 total time=   2.9s\n",
      "[CV 1/1] END activation=relu, hidden_layer_sizes=(4, 4, 4), solver=sgd;, score=0.976 total time=   6.7s\n",
      "[CV 1/1] END activation=relu, hidden_layer_sizes=(8, 8, 8), solver=adam;, score=0.982 total time=   7.2s\n",
      "[CV 1/1] END activation=relu, hidden_layer_sizes=(8, 8, 8), solver=sgd;, score=0.977 total time=   5.9s\n",
      "[CV 1/1] END activation=relu, hidden_layer_sizes=(16, 16, 16), solver=adam;, score=0.984 total time=   5.5s\n",
      "[CV 1/1] END activation=relu, hidden_layer_sizes=(16, 16, 16), solver=sgd;, score=0.979 total time=  10.0s\n",
      "[CV 1/1] END activation=relu, hidden_layer_sizes=(4, 4, 4, 4), solver=adam;, score=0.981 total time=   8.7s\n",
      "[CV 1/1] END activation=relu, hidden_layer_sizes=(4, 4, 4, 4), solver=sgd;, score=0.975 total time=   7.6s\n",
      "[CV 1/1] END activation=relu, hidden_layer_sizes=(8, 8, 8, 8), solver=adam;, score=0.983 total time=  10.4s\n",
      "[CV 1/1] END activation=relu, hidden_layer_sizes=(8, 8, 8, 8), solver=sgd;, score=0.974 total time=   6.5s\n",
      "[CV 1/1] END activation=relu, hidden_layer_sizes=(16, 16, 16, 16), solver=adam;, score=0.986 total time=  12.8s\n",
      "[CV 1/1] END activation=relu, hidden_layer_sizes=(16, 16, 16, 16), solver=sgd;, score=0.978 total time=  12.1s\n",
      "[CV 1/1] END activation=tanh, hidden_layer_sizes=(4,), solver=adam;, score=0.978 total time=   9.7s\n",
      "[CV 1/1] END activation=tanh, hidden_layer_sizes=(4,), solver=sgd;, score=0.973 total time=   6.2s\n",
      "[CV 1/1] END activation=tanh, hidden_layer_sizes=(8,), solver=adam;, score=0.980 total time=   8.9s\n",
      "[CV 1/1] END activation=tanh, hidden_layer_sizes=(8,), solver=sgd;, score=0.973 total time=   7.0s\n",
      "[CV 1/1] END activation=tanh, hidden_layer_sizes=(16,), solver=adam;, score=0.981 total time=  10.4s\n",
      "[CV 1/1] END activation=tanh, hidden_layer_sizes=(16,), solver=sgd;, score=0.974 total time=   9.7s\n",
      "[CV 1/1] END activation=tanh, hidden_layer_sizes=(4, 4), solver=adam;, score=0.977 total time=   4.8s\n",
      "[CV 1/1] END activation=tanh, hidden_layer_sizes=(4, 4), solver=sgd;, score=0.973 total time=   6.1s\n",
      "[CV 1/1] END activation=tanh, hidden_layer_sizes=(8, 8), solver=adam;, score=0.981 total time=  10.5s\n",
      "[CV 1/1] END activation=tanh, hidden_layer_sizes=(8, 8), solver=sgd;, score=0.976 total time=   9.7s\n",
      "[CV 1/1] END activation=tanh, hidden_layer_sizes=(16, 16), solver=adam;, score=0.981 total time=  12.1s\n",
      "[CV 1/1] END activation=tanh, hidden_layer_sizes=(16, 16), solver=sgd;, score=0.975 total time=  12.5s\n",
      "[CV 1/1] END activation=tanh, hidden_layer_sizes=(4, 4, 4), solver=adam;, score=0.977 total time=   2.3s\n",
      "[CV 1/1] END activation=tanh, hidden_layer_sizes=(4, 4, 4), solver=sgd;, score=0.975 total time=   5.4s\n",
      "[CV 1/1] END activation=tanh, hidden_layer_sizes=(8, 8, 8), solver=adam;, score=0.981 total time=   7.5s\n",
      "[CV 1/1] END activation=tanh, hidden_layer_sizes=(8, 8, 8), solver=sgd;, score=0.975 total time=  10.6s\n",
      "[CV 1/1] END activation=tanh, hidden_layer_sizes=(16, 16, 16), solver=adam;, score=0.984 total time=  16.4s\n",
      "[CV 1/1] END activation=tanh, hidden_layer_sizes=(16, 16, 16), solver=sgd;, score=0.976 total time=  18.3s\n",
      "[CV 1/1] END activation=tanh, hidden_layer_sizes=(4, 4, 4, 4), solver=adam;, score=0.978 total time=   5.5s\n",
      "[CV 1/1] END activation=tanh, hidden_layer_sizes=(4, 4, 4, 4), solver=sgd;, score=0.974 total time=   5.0s\n",
      "[CV 1/1] END activation=tanh, hidden_layer_sizes=(8, 8, 8, 8), solver=adam;, score=0.981 total time=  11.9s\n",
      "[CV 1/1] END activation=tanh, hidden_layer_sizes=(8, 8, 8, 8), solver=sgd;, score=0.976 total time=   6.7s\n",
      "[CV 1/1] END activation=tanh, hidden_layer_sizes=(16, 16, 16, 16), solver=adam;, score=0.984 total time=  11.4s\n",
      "[CV 1/1] END activation=tanh, hidden_layer_sizes=(16, 16, 16, 16), solver=sgd;, score=0.975 total time=   9.5s\n",
      "Best Hyperparameters: {'activation': 'relu', 'hidden_layer_sizes': (16, 16, 16, 16), 'solver': 'adam'}\n"
     ]
    }
   ],
   "source": [
    "# Create the GridSearchCV object\n",
    "from sklearn.model_selection import PredefinedSplit\n",
    "split_index = [-1]*len(X_train_scaled) + [0]*len(X_val_scaled)\n",
    "X = np.concatenate((X_train_scaled, X_val_scaled), axis=0)\n",
    "y = np.concatenate((y_train, y_val), axis=0)\n",
    "pds = PredefinedSplit(test_fold = split_index)\n",
    "\n",
    "grid_search = GridSearchCV(estimator = mlp_model,\n",
    "                   cv=pds,\n",
    "                   param_grid=param_grid, refit=False,scoring='f1', verbose=3)\n",
    "\n",
    "# Fit the GridSearchCV object to the data\n",
    "grid_search.fit(X, y)\n",
    "# Get the best hyperparameters\n",
    "best_params = grid_search.best_params_\n",
    "print(\"Best Hyperparameters:\", best_params)"
   ]
  },
  {
   "cell_type": "code",
   "execution_count": 74,
   "id": "83a7042c-7c8c-4b22-b0a0-a75c79bcff61",
   "metadata": {},
   "outputs": [],
   "source": [
    "best_params = {'activation': 'relu', 'hidden_layer_sizes': (16, 16, 16, 16), 'solver': 'adam'}"
   ]
  },
  {
   "cell_type": "code",
   "execution_count": 75,
   "id": "e5b9483c-a847-4873-af81-3a576ecb7d25",
   "metadata": {},
   "outputs": [
    {
     "name": "stdout",
     "output_type": "stream",
     "text": [
      "Accuracy (Optimized MLP Model): 0.9785823559408465\n",
      "Classification Report:\n",
      "              precision    recall  f1-score   support\n",
      "\n",
      "           0       0.98      0.94      0.96      1040\n",
      "           1       0.98      0.99      0.99      2882\n",
      "\n",
      "    accuracy                           0.98      3922\n",
      "   macro avg       0.98      0.97      0.97      3922\n",
      "weighted avg       0.98      0.98      0.98      3922\n",
      "\n"
     ]
    }
   ],
   "source": [
    "# Create the MLP model with the best hyperparameters\n",
    "best_mlp_model = MLPClassifier(max_iter=1000, random_state=1, **best_params)\n",
    "# Train the model on the scaled training data\n",
    "best_mlp_model.fit(X_train_scaled, y_train)\n",
    "\n",
    "# Predict on the validation set\n",
    "y_val_pred_best = best_mlp_model.predict(X_val_scaled)\n",
    "\n",
    "# Evaluate the performance\n",
    "accuracy_best = accuracy_score(y_val, y_val_pred_best)\n",
    "print(f\"Accuracy (Optimized MLP Model): {accuracy_best}\")\n",
    "print(\"Classification Report:\")\n",
    "print(classification_report(y_val, y_val_pred_best))"
   ]
  },
  {
   "cell_type": "code",
   "execution_count": 11,
   "id": "fa12cc72-a187-4b40-9fe2-ac4f449e4d8b",
   "metadata": {},
   "outputs": [],
   "source": [
    "######### Evaluation #########"
   ]
  },
  {
   "cell_type": "code",
   "execution_count": 77,
   "id": "40103462-224a-4acd-9e73-7071fb4b826f",
   "metadata": {},
   "outputs": [],
   "source": [
    "# Combine training and validation data\n",
    "X = np.concatenate((X_train_scaled, X_val_scaled), axis=0)\n",
    "y = np.concatenate((y_train, y_val), axis=0)"
   ]
  },
  {
   "cell_type": "markdown",
   "id": "47e6aa5e-2bfb-4234-bbce-be63eac6ce57",
   "metadata": {},
   "source": [
    "We have used the validation split to select the best hyperparameters, now we can incorporate the data into training the best configuration."
   ]
  },
  {
   "cell_type": "code",
   "execution_count": 78,
   "id": "84f3e2d6-b364-4ff2-b59d-6f6c0f34f07c",
   "metadata": {},
   "outputs": [],
   "source": [
    "# Create the MLP model with the best hyperparameters\n",
    "best_mlp_model = MLPClassifier(max_iter=1000, random_state=1, **best_params)\n",
    "# Train the model on the scaled training data\n",
    "best_mlp_model.fit(X,y)\n",
    "\n",
    "# Predict probabilities on the test set\n",
    "y_probs = best_mlp_model.predict_proba(X_test_scaled)"
   ]
  },
  {
   "cell_type": "code",
   "execution_count": 79,
   "id": "ee4ceace-347a-4d06-af7d-2d8a737adc20",
   "metadata": {},
   "outputs": [
    {
     "data": {
      "image/png": "[encoded data removed]",
      "text/plain": [
       "<Figure size 500x300 with 1 Axes>"
      ]
     },
     "metadata": {},
     "output_type": "display_data"
    }
   ],
   "source": [
    "from matplotlib import pyplot as plt\n",
    "\n",
    "# Plot training loss over iterations\n",
    "fig, ax = plt.subplots(figsize=(5,3))\n",
    "ax.plot(best_mlp_model.loss_curve_)\n",
    "ax.set_xlabel('Number of iterations')\n",
    "ax.set_ylabel(f'{best_mlp_model.loss}')\n",
    "ax.set_title('Loss progression over training iterations')\n",
    "plt.show()"
   ]
  },
  {
   "cell_type": "markdown",
   "id": "370a4e80-d280-4da4-aed9-996f1a6f1d37",
   "metadata": {},
   "source": [
    "The loss progression graph illustrates the training process of our neural network, which was initially set to run for 1000 iterations. However, the model demonstrated rapid learning, with the logarithm of the loss decreasing sharply within the first 25 iterations and plateauing around iteration 50. This fast convergence indicates that the model was able to find a good set of weights early in the training process, effectively minimizing the cross-entropy loss. Consequently, even though we prepared for a lengthy training process, the early stopping mechanism inherent to scikit-learn's MLPClassifier likely would have terminated training much earlier, conserving computational resources and preventing the risk of overfitting. This efficient training behavior showcases the algorithm's capability to achieve convergence swiftly, which is desirable in practice"
   ]
  },
  {
   "cell_type": "code",
   "execution_count": 10,
   "id": "f25e1232-883b-479c-8bb8-02e49ede9a5c",
   "metadata": {},
   "outputs": [],
   "source": [
    "from sklearn.metrics import confusion_matrix, roc_auc_score, roc_curve\n",
    "import seaborn as sns\n",
    "\n",
    "def plot_confusion_matrix(y_true, y_pred):\n",
    "    # construct a confusion matrix\n",
    "    cm = confusion_matrix(y_true, y_pred)\n",
    "    ax = sns.heatmap(cm, annot=True, cmap='Blues', fmt='d', xticklabels=['not malware', 'malware'], yticklabels=['not malware', 'malware'], vmin=0, vmax=np.count_nonzero(y_true == 0), annot_kws={'size': 15})\n",
    "\n",
    "    ax.set_yticklabels(labels=ax.get_yticklabels(), va='center')\n",
    "    plt.tick_params(axis='both', which='major', labelsize=13)\n",
    "    plt.xlabel('Predicted labels', fontsize = 14, labelpad=12)\n",
    "    plt.ylabel('True labels', fontsize = 14, labelpad=12)\n",
    "    cbar = ax.collections[0].colorbar\n",
    "    cbar.ax.tick_params(labelsize=12)\n",
    "\n",
    "    plt.show()\n",
    "\n",
    "    return cm"
   ]
  },
  {
   "cell_type": "code",
   "execution_count": 96,
   "id": "9ef121db-b258-4503-82f9-d946efad07f8",
   "metadata": {},
   "outputs": [],
   "source": [
    "y_pred = [np.argmax(prob_distribution) for prob_distribution in y_probs]"
   ]
  },
  {
   "cell_type": "code",
   "execution_count": 97,
   "id": "ff75dabe-ef43-4102-99bf-f90dc6d1bd71",
   "metadata": {},
   "outputs": [
    {
     "data": {
      "image/png": "[encoded data removed]",
      "text/plain": [
       "<Figure size 640x480 with 2 Axes>"
      ]
     },
     "metadata": {},
     "output_type": "display_data"
    }
   ],
   "source": [
    "tn, fp, fn, tp = plot_confusion_matrix(y_test, y_pred).ravel()"
   ]
  },
  {
   "cell_type": "markdown",
   "id": "55352c18-7f8b-4729-a217-5cae717a451c",
   "metadata": {},
   "source": [
    "The confusion matrix indicates a high level of performance by our classification model. With 2923 true positives and only 17 false negatives, our model is highly sensitive, successfully capturing 99.42% of malware instances. This is critical in a security context where failing to detect malware could have severe implications. Its ability to identify non-malware is also strong, indicated by the 913 true negatives out of the non-malware instances. Although there are 70 false positives, this number is relatively small compared to the true negatives, suggesting that the model is quite precise in distinguishing non-malicious instances. Overall, these results suggest that the model is very effective at detecting malware with a low rate of false negatives, which is essential for robust cybersecurity measures."
   ]
  },
  {
   "cell_type": "code",
   "execution_count": 98,
   "id": "1785d40f-0892-4a1e-a829-da18cf7d0d4d",
   "metadata": {},
   "outputs": [
    {
     "data": {
      "text/plain": [
       "0.9778230945704818"
      ]
     },
     "execution_count": 98,
     "metadata": {},
     "output_type": "execute_result"
    }
   ],
   "source": [
    "# Accuracy\n",
    "(tp+tn)/(tp+fp+fn+tn)"
   ]
  },
  {
   "cell_type": "markdown",
   "id": "a0219003-1ea2-4cbd-a62e-fdbf630d2d74",
   "metadata": {},
   "source": [
    "Our neural network model achieved an accuracy of 97.78% in classifying data as malware or non-malware. This high level of accuracy is encouraging and suggests that the model is highly effective in general classification tasks within our dataset. However, due to the imbalanced nature of our dataset, with a greater prevalence of malware instances, this accuracy figure should be interpreted with caution. It is essential to further evaluate the model using additional performance metrics like sensitivity, specificity, and the F1 score to gain a more nuanced understanding of its ability to correctly identify both malware and non-malware instances, especially given the lower representation of non-malware in the dataset"
   ]
  },
  {
   "cell_type": "code",
   "execution_count": 99,
   "id": "1ea4d01e-a7b1-4717-8340-d79c27a98849",
   "metadata": {},
   "outputs": [
    {
     "data": {
      "text/plain": [
       "0.9942176870748299"
      ]
     },
     "execution_count": 99,
     "metadata": {},
     "output_type": "execute_result"
    }
   ],
   "source": [
    "# Sensitivity (TPR)\n",
    "tp/(tp+fn)"
   ]
  },
  {
   "cell_type": "markdown",
   "id": "fd883b48-6dc7-4720-9026-92b10496789b",
   "metadata": {},
   "source": [
    "Our model demonstrates a remarkable sensitivity of 99.42% in identifying malware within our dataset, where malware constitutes majority of the data. This high sensitivity rate is critical for our cybersecurity efforts, indicating that the model can reliably detect the vast majority of malware instances, with only a very small fraction potentially slipping through. Given the imbalanced nature of our dataset, this level of sensitivity ensures that our model is particularly adept at recognizing and flagging malware, which is our primary concern. Nonetheless, while this high sensitivity is advantageous for minimizing missed malware detections, it is also essential to assess other metrics such as specificity and the F1 score to ensure that the model maintains a balanced performance, especially in correctly identifying the less prevalent non-malware instances."
   ]
  },
  {
   "cell_type": "code",
   "execution_count": 100,
   "id": "081affce-fdb4-41da-9768-83c398c6b16b",
   "metadata": {},
   "outputs": [
    {
     "data": {
      "text/plain": [
       "0.9287894201424212"
      ]
     },
     "execution_count": 100,
     "metadata": {},
     "output_type": "execute_result"
    }
   ],
   "source": [
    "# Specificity (TNR)\n",
    "tn/(tn+fp)"
   ]
  },
  {
   "cell_type": "markdown",
   "id": "153a3522-c818-44d4-882f-ed4e5b743dfc",
   "metadata": {},
   "source": [
    "Our model has achieved a specificity of 92.88% in correctly identifying non-malware instances within our dataset. This high specificity is a strong indicator of the model's ability to distinguish between malicious and non-malicious software, particularly important in our dataset where non-malware represents a smaller portion (approximately 25%). The 92.88% specificity shows that the model effectively minimizes false positives, thereby reducing the risk of mistakenly classifying benign software as malware. This is vital for maintaining system usability and avoiding unnecessary disruption. While the high specificity is commendable, it's equally important to balance it with sensitivity, which we have also found to be high. Together, these metrics suggest a well-rounded performance of our model in detecting malware, while reliably recognizing and preserving legitimate software operations"
   ]
  },
  {
   "cell_type": "code",
   "execution_count": 101,
   "id": "443238b8-8ea7-42c1-9497-d1dfa92b5135",
   "metadata": {},
   "outputs": [
    {
     "data": {
      "text/plain": [
       "0.9853362548457778"
      ]
     },
     "execution_count": 101,
     "metadata": {},
     "output_type": "execute_result"
    }
   ],
   "source": [
    "# F1 score\n",
    "2*tp/(2*tp+fn+fp)"
   ]
  },
  {
   "cell_type": "markdown",
   "id": "23979084-84cb-4b71-b038-799c98902809",
   "metadata": {},
   "source": [
    "Our model exhibits an outstanding F1 score of 98.53%, reflecting a highly effective balance between precision and sensitivity in the context of our imbalanced dataset, which is predominantly comprised of malware instances. This high F1 score underscores the model's capability to accurately detect malware (as evidenced by its high sensitivity) while maintaining a high precision rate, meaning it correctly identifies a large majority of malware instances without wrongly classifying non-malicious software as malware. This balance is crucial for the practical effectiveness of our cybersecurity solution, ensuring robust malware detection capabilities while minimizing false alarms and maintaining user trust. The exceptional F1 score, in tandem with our model's high accuracy, sensitivity, and specificity, collectively demonstrates its overall efficacy and reliability in malware classification tasks within our specific dataset composition."
   ]
  },
  {
   "cell_type": "code",
   "execution_count": 102,
   "id": "a92b2665-6a26-41fa-acea-c5114bdb5b50",
   "metadata": {},
   "outputs": [],
   "source": [
    "def plot_roc(y_true, y_pred_prob, y_pred):\n",
    "    # calculate ROC rurve and its AUC metric\n",
    "    fpr, tpr, thresholds = roc_curve(y_true, y_pred_prob)\n",
    "    auc = roc_auc_score(y_true, y_pred_prob)\n",
    "\n",
    "    plt.figure(1)\n",
    "    plt.plot([0, 1], [0, 1], 'k--', linewidth=2, color='darkblue')\n",
    "    plt.plot(fpr, tpr, label='ROC (AUC = {:.3f})'.format(auc), linewidth=2, color='darkorange')\n",
    "\n",
    "    plt.tick_params(axis='both', which='major', labelsize=13)\n",
    "    plt.xlabel('False positive rate', fontsize=14, labelpad=12)\n",
    "    plt.ylabel('True positive rate', fontsize=14, labelpad=8)\n",
    "    plt.title('Receiver Operating Characteristic Curve', fontsize=15)\n",
    "    plt.legend(loc='lower right', fontsize=15)\n",
    "    plt.xlim(-0.01,1)\n",
    "    plt.ylim(0,1.01)\n",
    "\n",
    "    plt.show()\n",
    "\n",
    "    return fpr, tpr, thresholds"
   ]
  },
  {
   "cell_type": "code",
   "execution_count": 103,
   "id": "33a49cda-6511-419e-a092-d53021655d24",
   "metadata": {},
   "outputs": [],
   "source": [
    "y_malware_probs = [prob_distribution[1] for prob_distribution in y_probs]"
   ]
  },
  {
   "cell_type": "code",
   "execution_count": 104,
   "id": "c057934a-7060-4b23-981d-8a1aa9fbe74a",
   "metadata": {},
   "outputs": [
    {
     "data": {
      "image/png": "[encoded data removed]",
      "text/plain": [
       "<Figure size 640x480 with 1 Axes>"
      ]
     },
     "metadata": {},
     "output_type": "display_data"
    }
   ],
   "source": [
    "fpr, tpr, thresholds = plot_roc(y_test, y_malware_probs, y_pred)"
   ]
  },
  {
   "cell_type": "code",
   "execution_count": 93,
   "id": "6ddc0ca3-b4ff-41ae-8fca-327f0b554d9a",
   "metadata": {},
   "outputs": [
    {
     "name": "stdout",
     "output_type": "stream",
     "text": [
      "Optimal threhold which maximizes TPR and minimizes FPR is: 0.87\n"
     ]
    }
   ],
   "source": [
    "print(f'Optimal threhold which maximizes TPR and minimizes FPR is: {thresholds[np.argmax(tpr - fpr)]:.2f}')"
   ]
  },
  {
   "cell_type": "markdown",
   "id": "5070bcf0-1ee6-4904-8c74-7574ca4e6d06",
   "metadata": {},
   "source": [
    "\n",
    "The ROC curve represents the performance of a classification model at various threshold settings. It plots the True Positive Rate (TPR) against the False Positive Rate (FPR). TPR, also known as recall, measures the proportion of actual positives correctly identified and we aim to maximize this. FPR indicates how many incorrect positive predictions were made out of all negative cases, and we aim to minimize this.\r\n",
    "\r\n",
    "AUC, or Area Under the Curve, evaluates the model's ability to differentiate between classes. An AUC of 0.990 is outstanding, suggesting the model has a 99% chance of correctly distinguishing between classes.The threshold is the probability above which a prediction is labeled positive. Currently set at that adjusting this threshold to  87% would optmize the balance between TPR and FPR for our specific needs, meaning the model will only label a prediction as malware if it's at least 87% certain. This would help in scenarios where false positives are particularly costly or disruptive.ive."
   ]
  },
  {
   "cell_type": "markdown",
   "id": "8fdec958-0b0c-4003-8dd7-b1237c91336d",
   "metadata": {},
   "source": [
    "The interpretability of a model is an important consideration, particularly in domains where understanding the decision-making process is as crucial as the decision itself. The use of an MLP (Multi-Layer Perceptron) classifier, a type of neural network, presents challenges in terms of interpretability. Due to the complex, layered structure of neural networks and the often non-linear transformations they apply, MLPs are commonly referred to as \"black boxes.\" This means that while they can model complex relationships and achieve high accuracy, it is not straightforward to decipher the specific reasons behind any given prediction."
   ]
  },
  {
   "cell_type": "code",
   "execution_count": null,
   "id": "5ae62940-cbba-4641-b3ad-36d24a951ca3",
   "metadata": {},
   "outputs": [],
   "source": []
  }
 ],
 "metadata": {
  "kernelspec": {
   "display_name": "Python 3 (ipykernel)",
   "language": "python",
   "name": "python3"
  },
  "language_info": {
   "codemirror_mode": {
    "name": "ipython",
    "version": 3
   },
   "file_extension": ".py",
   "mimetype": "text/x-python",
   "name": "python",
   "nbconvert_exporter": "python",
   "pygments_lexer": "ipython3",
   "version": "3.10.12"
  }
 },
 "nbformat": 4,
 "nbformat_minor": 5
}
